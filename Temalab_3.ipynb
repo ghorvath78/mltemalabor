{
 "cells": [
  {
   "cell_type": "markdown",
   "metadata": {},
   "source": [
    "# Lineáris regresszió"
   ]
  },
  {
   "cell_type": "markdown",
   "metadata": {},
   "source": [
    "## 1 Lineáris regresszió 1 változóval\n",
    "\n",
    "Ebben a példában egy ételszállító cég adatain dolgozunk. \n",
    "Célunk, hogy előrejelezzük, mekkora lesz a cég profitja, ha egy adott méretű városban\n",
    "elindítja a szolgáltatását."
   ]
  },
  {
   "cell_type": "code",
   "execution_count": 47,
   "metadata": {},
   "outputs": [],
   "source": [
    "import pandas as pd\n",
    "import matplotlib.pyplot as plt"
   ]
  },
  {
   "cell_type": "code",
   "execution_count": 48,
   "metadata": {},
   "outputs": [],
   "source": [
    "# adatok betöltése és ábrázolása\n",
    "data = pd.read_csv(\"./data/simpleml/ex1data1.txt\", names = [\"Population\", \"Profit\"])"
   ]
  },
  {
   "cell_type": "code",
   "execution_count": 49,
   "metadata": {},
   "outputs": [
    {
     "data": {
      "text/plain": [
       "Text(0,0.5,'Profit')"
      ]
     },
     "execution_count": 49,
     "metadata": {},
     "output_type": "execute_result"
    },
    {
     "data": {
      "image/png": "[encoded data removed]",
      "text/plain": [
       "<Figure size 432x288 with 1 Axes>"
      ]
     },
     "metadata": {
      "needs_background": "light"
     },
     "output_type": "display_data"
    }
   ],
   "source": [
    "plt.scatter(x=data[\"Population\"], y=data[\"Profit\"])\n",
    "plt.xlabel(\"Population\")\n",
    "plt.ylabel(\"Profit\")"
   ]
  },
  {
   "cell_type": "markdown",
   "metadata": {},
   "source": [
    "Ebben a példában a megfigyeléseink két részből állnak:\n",
    "\n",
    "* Magyarázóváltozó (feature): $x$ (most a Population). Ez alapján szeretnénk előrejelezni.\n",
    "* Célváltozó: $y$ (most a Profit). Ezt szeretnénk előrejelezni.\n",
    "\n",
    "A megfigyeléseink száma $n$, az $i$. megfigyelés feature-eit $x^{(i)}$, a célváltozóját $y^{(i)}$ jelöli. Általános esetben minden egyes megfigyelés több, $n$ feature-t is tartalmazhat, így szerencsésebb a feature-öket indexelni: az $x^{(i)}_j$ az $i$. megfigyelés $j$. feature-e. Sőt, bevezetünk egy extra feature-t is, aminek konstans 1 az értéke, ez lesz a 0-ás számú (hamarosan látni fogjuk, hogy ez milyen jó ötlet): $x_0^{(i)}=1$. A továbbiakban a feature-ökből álló vektort értjük az index nélküli jelölés alatt: $x^{(i)}=[x^{(i)}_0,x^{(i)}_1,\\dots,x^{(i)}_n]^T$. Ebben a példában $n=1$, így $x^{(i)}$ egy 2 elemű vektor lesz: a konstans 1, valamint a Population.\n",
    "\n",
    "A lineáris regresszió lényege, hogy a célváltozót a magyarázó váltózók lineáris függvényével közelíti. Ha a becsült célváltozót $\\hat{y}^{(i)}$-vel jelöljük, akkor ezt az alábbi alakban kapjuk meg:\n",
    "\n",
    "$$ \\hat{y}^{(i)} = \\theta_0 + \\theta_1 x^{(i)}_1.$$\n",
    "\n",
    "Ez egy (lineáris) modell. Két paramétere van, $\\theta_0$ és $\\theta_1$, melyeket az egyszerűség kedvéért vektorba szoktak gyűjteni: $\\theta=[\\theta_0,\\theta_1]^T$, így a célváltozó becslése vektorok segítségével még tömörebben kifejezhető:\n",
    "$$ \\hat{y}^{(i)} = \\theta^T\\cdot x^{(i)}$$\n",
    "(Milyen jól jött a 0-ás feature bevezetése!) A gépi tanulás célja az $m$ megfigyelés alapján az optimális modell paraméterek, azaz $\\theta_0$ és $\\theta_1$ meghatározása. \n",
    "\n",
    "Hogy mit is jelent az, hogy *optimális*? Ezt egy ún. **loss function** (költségfüggvény) határozza meg, amit $J(\\theta)$ jelöl, és pont azt írja le, hogy mennyire rossz a becslés ($\\theta$ paraméterek mellett mekkora a veszteség). Lineáris regressziónál az átlagos négyzetes hibát (mean squared error, MSE) szokták alkalmazni, aminek az alakja:\n",
    "\n",
    "$$J(\\theta)=\\frac{1}{m}\\sum_{i=1}^m (\\hat{y}^{(i)} - y^{(i)})^2 = \\frac{1}{m}\\sum_{i=1}^m (\\theta_0 + \\theta_1 x^{(i)}_1 - y^{(i)})^2$$\n",
    "\n",
    "Miért szerencsés a négyzetre emelés? Mert így mindkét irányű hibát (alá- és fölélövést) is büntetni tudjuk. Használhatnánk négyzetreemelés helyett abszolút értéket is, de a négyzet matematikailag könnyebben kezelhető, mert minden pontban létezik a deriváltja.\n",
    "\n",
    "### 1.1 Az optimális paraméterek meghatározása a loss function analitikus megoldásával\n",
    "\n",
    "Jelen esetben a költségfüggvény annyira egyszerű, hogy matematikailag pontosan is meg határozni a minimumát. Ehhez a $J(\\theta)$ függvényt deriválni kell $\\theta$ szerint (vigyázat, vektorváltozó!), és ahol a derivált $0$, ott kapjuk az optimumot (na jó, kellene vizsgálni a második deriváltat is, de attól most eltekintünk).\n",
    "\n",
    "Láttuk, hogy az $x^{(i)}$ feature-ök alapján a becslés $ \\hat{y}^{(i)} = \\theta^T\\cdot x^{(i)}$. Ha az összes megfigyelésre felírjuk ezt az egyenletet, és egymás alá rendezzük őket, akkor megkapjuk, hogy \n",
    "$$ \\hat{y} = X \\theta, $$\n",
    "ahol $\\hat{y}$ az összes célváltozót tartalmazó $m\\times 1$-es vektor, és $X$ az összes magyarázó változót tartalmazó $m\\times (n+1)$-es mátrix. A loss függvény ezzel a jelöléssel:\n",
    "$$ J(\\theta) = \\frac{1}{m}(y - X \\theta)^T(y - X \\theta),$$\n",
    "melynek a $\\theta$ szerinti deriváltja (nem triviális!):\n",
    "$$ \\frac{d}{d\\theta} J(\\theta) = \\frac{2}{m}(X^T X \\theta - X^T y).$$\n",
    "\n",
    "Ennek a $0$ helyét egyszerű mátrix műveletekkel megkaphatjuk:\n",
    "$$ \\theta_{opt}=(X^T X)^{-1}X^T y.$$\n",
    "Ezt nevezzük a *normál egyenletnek*.\n",
    "\n",
    "Oldjuk meg ezt a példánkra!"
   ]
  },
  {
   "cell_type": "code",
   "execution_count": 213,
   "metadata": {},
   "outputs": [
    {
     "data": {
      "text/plain": [
       "matrix([[-3.89578088],\n",
       "        [ 1.19303364]])"
      ]
     },
     "execution_count": 213,
     "metadata": {},
     "output_type": "execute_result"
    }
   ],
   "source": [
    "import numpy as np\n",
    "# konstans 1 oszlop, és a population oszlop alkotja az X mátrixot\n",
    "X = np.hstack((np.ones((len(data),1)), np.matrix(data[\"Population\"].values).T))\n",
    "# a profit oszlop lesz az y vektor\n",
    "y = np.matrix(data[\"Profit\"].values).T\n",
    "# optimális súlyok kiszámítása a normál egyenlettel\n",
    "theta = (X.T*X).I.dot(X.T).dot(y)\n",
    "theta"
   ]
  },
  {
   "cell_type": "markdown",
   "metadata": {},
   "source": [
    "Az optimális $\\theta$ paraméterek ismeretében az előrejelzést megkaphatjuk az $X\\theta$ mátrix szorzás segítségével.\n",
    "\n",
    "Rajzoljuk ki az adatokat és a modellt is:"
   ]
  },
  {
   "cell_type": "code",
   "execution_count": 214,
   "metadata": {},
   "outputs": [
    {
     "data": {
      "text/plain": [
       "<matplotlib.collections.PathCollection at 0x7f1dbc5b2f28>"
      ]
     },
     "execution_count": 214,
     "metadata": {},
     "output_type": "execute_result"
    },
    {
     "data": {
      "image/png": "[encoded data removed]",
      "text/plain": [
       "<Figure size 432x288 with 1 Axes>"
      ]
     },
     "metadata": {
      "needs_background": "light"
     },
     "output_type": "display_data"
    }
   ],
   "source": [
    "plt.plot(data[\"Population\"], X.dot(theta), c=\"r\", label='Modell')\n",
    "plt.scatter(data[\"Population\"], data[\"Profit\"], label='Valóság')"
   ]
  },
  {
   "cell_type": "markdown",
   "metadata": {},
   "source": [
    "A loss (átlagos négyzetes hiba, $J(\\theta)$) kiszámítása: "
   ]
  },
  {
   "cell_type": "code",
   "execution_count": 52,
   "metadata": {},
   "outputs": [
    {
     "data": {
      "text/plain": [
       "8.953942751950358"
      ]
     },
     "execution_count": 52,
     "metadata": {},
     "output_type": "execute_result"
    }
   ],
   "source": [
    "mse = (1.0/len(data))*np.sum(np.power(y - X.dot(theta), 2))\n",
    "mse"
   ]
  },
  {
   "cell_type": "markdown",
   "metadata": {},
   "source": [
    "### 1.2 Az optimális paraméterek meghatározása numerikus optimalizálással\n",
    "\n",
    "A gépi tanulás gyakorlatában a normál egyenletet nem használjuk. Egyrészt mert általában nem lineáris modellekkel dolgozunk, másrészt pedig mert $X$ jellemzően nagyon nagy, és nem szeretnénk hatalmas méretű mátrixokat szorozgatni/invertálni. A normál egyenlet helyett numerikus optimalizálást alkalmazunk. Ez egy iteratív eljárás, ami kezdetben egy véletlen tippel állítja elő $\\theta$-t, majd iteratív módon javítgatja azt, amíg tudja. A gépi tanulásban messze a legelterjedtebb numerikus módszer a GD (gradient descent), és ennek változatai. Még a legbonyolúltabb deep learning rendszerekben is ezt használják, úgyhogy érdemes a lineáris regresszión keresztül megismerkedni vele.\n",
    "\n",
    "A GD egy mohó algoritmus, nincs túl sok esze. A célja, hogy megtalálja a loss function minimumát. A loss function-t egy több dimenziós dombságként képzelhetjül el, esetünkben 3D-s, mivel minden $\\theta_0$ és $\\theta_1$ értékhez tartozik egy loss, $J(\\theta)$:"
   ]
  },
  {
   "cell_type": "code",
   "execution_count": 121,
   "metadata": {},
   "outputs": [
    {
     "data": {
      "text/plain": [
       "<matplotlib.contour.QuadContourSet at 0x7f1dbcb7e400>"
      ]
     },
     "execution_count": 121,
     "metadata": {},
     "output_type": "execute_result"
    },
    {
     "data": {
      "image/png": "[encoded data removed]",
      "text/plain": [
       "<Figure size 432x288 with 1 Axes>"
      ]
     },
     "metadata": {
      "needs_background": "light"
     },
     "output_type": "display_data"
    }
   ],
   "source": [
    "from mpl_toolkits.mplot3d import Axes3D\n",
    "A = np.arange(-20, 30, 1)\n",
    "B = np.arange(-4, 4, 0.1)\n",
    "J = np.array([[(1.0/len(data))*np.sum(np.power(y-X.dot(np.array([A[i],B[j]])), 2)) for i in range(len(A))] for j in range(len(B))])\n",
    "\n",
    "plt.contour(A, B, J, np.logspace(1,7,30))"
   ]
  },
  {
   "cell_type": "markdown",
   "metadata": {},
   "source": [
    "Ezen a felületen a GD mindig arra lép tovább, amerre a legmélyebb pontot sejti. Ehhez mindig kiszámítja a grádienst (ez ugye a hegytető felé mutat), \n",
    "és az ellenkező irányba mozdul, mégpedig annyit, amennyit a *learning rate* ($\\alpha$) paraméter előír neki. Ha $\\alpha$ túl kicsi, kicsiket lép, \n",
    "és lassan ér le a mélybe. Ha $\\alpha$ túl nagy, fennáll a veszély, hogy átlépi az optimumot. Ez egy hiperparaméter, jól kell belőni az értékét.\n",
    "\n",
    "Próbáljuk ki! A grádiens, azaz $\\frac{d}{d\\theta}J(\\theta)$ fent megtalálható.\n"
   ]
  },
  {
   "cell_type": "code",
   "execution_count": 24,
   "metadata": {},
   "outputs": [
    {
     "name": "stdout",
     "output_type": "stream",
     "text": [
      "500. iteráció, hiba: 10.556276001064909\n",
      "1000. iteráció, hiba: 9.6042934825043\n",
      "1500. iteráció, hiba: 9.217905365823455\n",
      "2000. iteráció, hiba: 9.061079191181186\n",
      "2500. iteráció, hiba: 8.997427003157915\n",
      "3000. iteráció, hiba: 8.97159202344619\n",
      "3500. iteráció, hiba: 8.961106191027344\n",
      "4000. iteráció, hiba: 8.956850229430193\n",
      "4500. iteráció, hiba: 8.955122831128097\n",
      "5000. iteráció, hiba: 8.954421719328574\n",
      "5500. iteráció, hiba: 8.954137153947887\n",
      "6000. iteráció, hiba: 8.9540216553128\n",
      "6500. iteráció, hiba: 8.953974777035924\n",
      "Vége.\n"
     ]
    },
    {
     "data": {
      "text/plain": [
       "matrix([[-3.88570748],\n",
       "        [ 1.19202166]])"
      ]
     },
     "execution_count": 24,
     "metadata": {},
     "output_type": "execute_result"
    }
   ],
   "source": [
    "theta = np.random.randn(2,1)\n",
    "alpha = 0.01\n",
    "numiter = 1\n",
    "while True:\n",
    "    thetav = theta - alpha * X.T.dot(X.dot(theta)-y) / (2*len(data))\n",
    "    # leállási feltétel\n",
    "    if np.sum(abs(thetav - theta)) < 1e-5:\n",
    "        print(\"Vége.\")\n",
    "        break    \n",
    "    # státusz üzenetek minden 100. lépésben\n",
    "    if numiter % 500 == 0:\n",
    "        mse = (1.0/len(data))*np.sum(np.power(y - X.dot(theta), 2))\n",
    "        print(\"{0}. iteráció, hiba: {1}\".format(numiter, mse))\n",
    "    \n",
    "    numiter += 1\n",
    "    theta = thetav\n",
    "theta"
   ]
  },
  {
   "cell_type": "markdown",
   "metadata": {},
   "source": [
    "... pont ugyanazokat a paramétereket kaptuk, melyeket a normál egyenlet alapján kaptunk. Mivel a költségfüggvény konvex, a GD (megfelelő $\\alpha$ paraméterrel) garantáltan megtalálja az optimumot.\n"
   ]
  },
  {
   "cell_type": "markdown",
   "metadata": {},
   "source": [
    "### 1.3 Az sklearn csomag\n",
    "\n",
    "Szerencsére a python-ban a gépi tanulásra is van library: ez az sklearn. Most oldjuk meg ugyanezt a feladatot az sklearn segítségével."
   ]
  },
  {
   "cell_type": "code",
   "execution_count": 161,
   "metadata": {},
   "outputs": [],
   "source": [
    "from sklearn.linear_model import LinearRegression\n",
    "from sklearn.metrics import mean_squared_error"
   ]
  },
  {
   "cell_type": "code",
   "execution_count": 168,
   "metadata": {},
   "outputs": [],
   "source": [
    "X = np.matrix(data[\"Population\"].values).T\n",
    "reg = LinearRegression().fit(X, data[\"Profit\"])"
   ]
  },
  {
   "cell_type": "markdown",
   "metadata": {},
   "source": [
    "... ez könnyen ment. Az sklearn külön adja vissza a feature-ök szorzóit (coef_), és a konstams eltolást (reg.intercept_), ettől eltekintve ugyanazt kaptuk, mint eddig:"
   ]
  },
  {
   "cell_type": "code",
   "execution_count": 169,
   "metadata": {},
   "outputs": [
    {
     "name": "stdout",
     "output_type": "stream",
     "text": [
      "-3.89578087831185\n",
      "[1.19303364]\n"
     ]
    }
   ],
   "source": [
    "print(reg.intercept_)\n",
    "print(reg.coef_)"
   ]
  },
  {
   "cell_type": "code",
   "execution_count": 170,
   "metadata": {},
   "outputs": [
    {
     "data": {
      "text/plain": [
       "8.953942751950358"
      ]
     },
     "execution_count": 170,
     "metadata": {},
     "output_type": "execute_result"
    }
   ],
   "source": [
    "# ez a modell predikciója:\n",
    "ypred = reg.predict(X)\n",
    "# lássuk, mekkora a hiba a valósághoz képest:\n",
    "mse = mean_squared_error(y, ypred)\n",
    "mse"
   ]
  },
  {
   "cell_type": "markdown",
   "metadata": {},
   "source": [
    "... ami pont az, amit fentebb számoltunk, manuálisan."
   ]
  },
  {
   "cell_type": "markdown",
   "metadata": {},
   "source": [
    "## 2 Lineársi regresszió új feature-ök bevezetésével\n",
    "\n",
    "A lineáris regresszió szép és egyszerű, de sajnos a valóságban ritka a lineáris függés a változók között. Ekkor a lineáris regresszió csak relatíve nagy hibával tudja modellezni a valóságot. \n",
    "\n",
    "Szerencsére nincs minden veszve, ugyanis egy egyszerű trükk segítségével a lineáris regresszióból is ki tudunk csikarni nemlineáris viselkezdés. A titok nyitja új, mesterséges feature-ök bevezetése. Eddig az $x^{(i)}_1$ volt az $i$. megfigyelésünk, melyből $y^{(i)}$-t becsültük. Ha $x^{(i)}_1$ mellett bevezetjük az $x^{(i)}_2=(x^{(i)}_1)^2, x^{(i)}_3=(x^{(i)}_1)^3, \\dots$ változókat, vagy akár ennél cifrábbakat is (pl. $sin(x^{(i)}_1)$, stb.), akkor a lineáris regresszió ezek súlyozásával fogja közelíteni $y^{(i)}$-t. Ez természetesen növeli a dimenzionalitást, több súlyunk lesz.\n",
    "\n",
    "Az alábbi példán szépen látszik, hogy több polinomiális tag hozzáadásával csökken az MSE, és a grafikonokon is jól követhető a javulás."
   ]
  },
  {
   "cell_type": "code",
   "execution_count": 235,
   "metadata": {},
   "outputs": [
    {
     "data": {
      "text/plain": [
       "8.830450395108368"
      ]
     },
     "execution_count": 235,
     "metadata": {},
     "output_type": "execute_result"
    }
   ],
   "source": [
    "X = np.hstack((np.matrix(data[\"Population\"].values).T, \n",
    "               np.power(np.matrix(data[\"Population\"].values).T,2), \n",
    "               np.power(np.matrix(data[\"Population\"].values).T,3), \n",
    "               np.power(np.matrix(data[\"Population\"].values).T,4)))\n",
    "reg = LinearRegression().fit(X, data[\"Profit\"])\n",
    "# ez a modell predikciója:\n",
    "ypred = reg.predict(X)\n",
    "# lássuk, mekkora a hiba a valósághoz képest:\n",
    "mse = mean_squared_error(y, ypred)\n",
    "mse"
   ]
  },
  {
   "cell_type": "code",
   "execution_count": 236,
   "metadata": {},
   "outputs": [
    {
     "data": {
      "text/plain": [
       "<matplotlib.collections.PathCollection at 0x7f1dbc344a20>"
      ]
     },
     "execution_count": 236,
     "metadata": {},
     "output_type": "execute_result"
    },
    {
     "data": {
      "image/png": "[encoded data removed]",
      "text/plain": [
       "<Figure size 432x288 with 1 Axes>"
      ]
     },
     "metadata": {
      "needs_background": "light"
     },
     "output_type": "display_data"
    }
   ],
   "source": [
    "ix = np.argsort(data[\"Population\"])\n",
    "plt.plot(data[\"Population\"].sort_values(), ypred[ix], c=\"r\", label='Modell')\n",
    "plt.scatter(data[\"Population\"], y.A, label='Megfigyelések')"
   ]
  },
  {
   "cell_type": "markdown",
   "metadata": {},
   "source": [
    "Sajnos az élet nem fenékig tejfel. Ha túlzásba visszük az új feature-ök hozzáadását abban a reményben, \n",
    "hogy majd úgyis kinullázódik a súlya minden szükségtelen tagnak, akkor csalódni fogunk. A sok új feature egy részét ugyanis a modell nem kinullázni fogja,\n",
    "hanem elkezni kihegyezni őket a legrosszabbul illeszkedő minták jobb közelítésére. Ennek akár örülhetnénk is, de valójában ez nem jó dolog,\n",
    "ugyanis a modell általánosító képességét rontja, ha pár extrém tanulóminta elkapására pazarolja a képességeit egy jobb, általánosabban\n",
    "használható görbe előállítása helyett. Ez a *túltanulás* jelensége. Lássunk egy példát túltanulásra, a fenti példában alkalmazott trükk túlzásba vitelével."
   ]
  },
  {
   "cell_type": "code",
   "execution_count": 231,
   "metadata": {},
   "outputs": [
    {
     "data": {
      "text/plain": [
       "8.475513387825371"
      ]
     },
     "execution_count": 231,
     "metadata": {},
     "output_type": "execute_result"
    }
   ],
   "source": [
    "X = np.hstack((np.matrix(data[\"Population\"].values).T, \n",
    "               np.power(np.matrix(data[\"Population\"].values).T,2), \n",
    "               np.power(np.matrix(data[\"Population\"].values).T,3), \n",
    "               np.power(np.matrix(data[\"Population\"].values).T,4), \n",
    "               np.power(np.matrix(data[\"Population\"].values).T,5), \n",
    "               np.power(np.matrix(data[\"Population\"].values).T,6), \n",
    "               np.power(np.matrix(data[\"Population\"].values).T,7), \n",
    "               np.power(np.matrix(data[\"Population\"].values).T,8), \n",
    "               np.power(np.matrix(data[\"Population\"].values).T,9), \n",
    "               np.power(np.matrix(data[\"Population\"].values).T,10), \n",
    "               np.power(np.matrix(data[\"Population\"].values).T,0.5), \n",
    "               np.power(np.matrix(data[\"Population\"].values).T,0.25)))\n",
    "reg = LinearRegression().fit(X, data[\"Profit\"])\n",
    "# ez a modell predikciója:\n",
    "ypred = reg.predict(X)\n",
    "# lássuk, mekkora a hiba a valósághoz képest:\n",
    "mse = mean_squared_error(y, ypred)\n",
    "mse"
   ]
  },
  {
   "cell_type": "markdown",
   "metadata": {},
   "source": [
    "Eddig jó, az MSE szép alacsony érték! De nézzünk csak rá a grafikonra, mint kaptunk:"
   ]
  },
  {
   "cell_type": "code",
   "execution_count": 232,
   "metadata": {},
   "outputs": [
    {
     "data": {
      "text/plain": [
       "<matplotlib.collections.PathCollection at 0x7f1dbc4028d0>"
      ]
     },
     "execution_count": 232,
     "metadata": {},
     "output_type": "execute_result"
    },
    {
     "data": {
      "image/png": "[encoded data removed]",
      "text/plain": [
       "<Figure size 432x288 with 1 Axes>"
      ]
     },
     "metadata": {
      "needs_background": "light"
     },
     "output_type": "display_data"
    }
   ],
   "source": [
    "ix = np.argsort(data[\"Population\"])\n",
    "plt.plot(data[\"Population\"].sort_values(), ypred[ix], c=\"r\", label='Modell')\n",
    "plt.scatter(data[\"Population\"], y.A, label='Megfigyelések')"
   ]
  },
  {
   "cell_type": "markdown",
   "metadata": {},
   "source": [
    "## 3 Lineáris regresszió több változóval"
   ]
  },
  {
   "cell_type": "markdown",
   "metadata": {},
   "source": [
    "Ehhez a példához egy új adatsort használunk, melynek 3 oszlopa van. Minden megfigyelés egy ingatlan eladás paramétereit tartalmazza. Az első oszlop a ház méretét (négyzetméterben), a második a hálószobák számát, a harmadik pedig az eladási árat (dollárban). Célunk, hogy az irodánkba érkező ügyfél házát a lehető legpontosabban be tudjuk árazni."
   ]
  },
  {
   "cell_type": "code",
   "execution_count": 249,
   "metadata": {},
   "outputs": [
    {
     "data": {
      "text/html": [
       "<div>\n",
       "<style scoped>\n",
       "    .dataframe tbody tr th:only-of-type {\n",
       "        vertical-align: middle;\n",
       "    }\n",
       "\n",
       "    .dataframe tbody tr th {\n",
       "        vertical-align: top;\n",
       "    }\n",
       "\n",
       "    .dataframe thead th {\n",
       "        text-align: right;\n",
       "    }\n",
       "</style>\n",
       "<table border=\"1\" class=\"dataframe\">\n",
       "  <thead>\n",
       "    <tr style=\"text-align: right;\">\n",
       "      <th></th>\n",
       "      <th>Size</th>\n",
       "      <th>Bedrooms</th>\n",
       "      <th>Price</th>\n",
       "    </tr>\n",
       "  </thead>\n",
       "  <tbody>\n",
       "    <tr>\n",
       "      <th>0</th>\n",
       "      <td>2104</td>\n",
       "      <td>3</td>\n",
       "      <td>399900</td>\n",
       "    </tr>\n",
       "    <tr>\n",
       "      <th>1</th>\n",
       "      <td>1600</td>\n",
       "      <td>3</td>\n",
       "      <td>329900</td>\n",
       "    </tr>\n",
       "    <tr>\n",
       "      <th>2</th>\n",
       "      <td>2400</td>\n",
       "      <td>3</td>\n",
       "      <td>369000</td>\n",
       "    </tr>\n",
       "    <tr>\n",
       "      <th>3</th>\n",
       "      <td>1416</td>\n",
       "      <td>2</td>\n",
       "      <td>232000</td>\n",
       "    </tr>\n",
       "    <tr>\n",
       "      <th>4</th>\n",
       "      <td>3000</td>\n",
       "      <td>4</td>\n",
       "      <td>539900</td>\n",
       "    </tr>\n",
       "    <tr>\n",
       "      <th>5</th>\n",
       "      <td>1985</td>\n",
       "      <td>4</td>\n",
       "      <td>299900</td>\n",
       "    </tr>\n",
       "    <tr>\n",
       "      <th>6</th>\n",
       "      <td>1534</td>\n",
       "      <td>3</td>\n",
       "      <td>314900</td>\n",
       "    </tr>\n",
       "    <tr>\n",
       "      <th>7</th>\n",
       "      <td>1427</td>\n",
       "      <td>3</td>\n",
       "      <td>198999</td>\n",
       "    </tr>\n",
       "    <tr>\n",
       "      <th>8</th>\n",
       "      <td>1380</td>\n",
       "      <td>3</td>\n",
       "      <td>212000</td>\n",
       "    </tr>\n",
       "    <tr>\n",
       "      <th>9</th>\n",
       "      <td>1494</td>\n",
       "      <td>3</td>\n",
       "      <td>242500</td>\n",
       "    </tr>\n",
       "  </tbody>\n",
       "</table>\n",
       "</div>"
      ],
      "text/plain": [
       "   Size  Bedrooms   Price\n",
       "0  2104         3  399900\n",
       "1  1600         3  329900\n",
       "2  2400         3  369000\n",
       "3  1416         2  232000\n",
       "4  3000         4  539900\n",
       "5  1985         4  299900\n",
       "6  1534         3  314900\n",
       "7  1427         3  198999\n",
       "8  1380         3  212000\n",
       "9  1494         3  242500"
      ]
     },
     "execution_count": 249,
     "metadata": {},
     "output_type": "execute_result"
    }
   ],
   "source": [
    "data = pd.read_csv(\"./data/simpleml/ex1data2.txt\", names = [\"Size\", \"Bedrooms\", \"Price\"])\n",
    "data[0:10]"
   ]
  },
  {
   "cell_type": "markdown",
   "metadata": {},
   "source": [
    "Mivel itt már megfigyelésenként két feature van (a méret és a hálószobák száma), és ezek különböző nagyságrendben mozognak (méret: 1000-3000, hálószobaszám: 2-4) nem hagyhatunk ki egy nagyon fontos lépést: a *skálázást*. Ez - többek között - a GD algoritmuson is segít (amikor a loss függvény által adott felületen lépeget), hiszen minden irányban kb. azonos a \"lépésméret\", ha $\\alpha$-nyit lépünk, az minden feature mentén kb. azonos mértékű elmozdulást eredményez.\n",
    "\n",
    "A skálázás nagyon egyszerű: minden oszlopból ki kell vonni az átlagát, és le kell osztani a szórásáva. Végeredményképp minden oszlopunk 0 átlagú és 1 szórású lesz. Szerencsére ezt a lépést is támogatja az sklearn."
   ]
  },
  {
   "cell_type": "code",
   "execution_count": 267,
   "metadata": {},
   "outputs": [
    {
     "name": "stderr",
     "output_type": "stream",
     "text": [
      "/usr/lib/python3.7/site-packages/sklearn/utils/validation.py:590: DataConversionWarning: Data with input dtype int64 was converted to float64 by the scale function.\n",
      "  warnings.warn(msg, DataConversionWarning)\n"
     ]
    },
    {
     "data": {
      "text/plain": [
       "array([[ 0.13141542, -0.22609337],\n",
       "       [-0.5096407 , -0.22609337],\n",
       "       [ 0.5079087 , -0.22609337],\n",
       "       [-0.74367706, -1.5543919 ],\n",
       "       [ 1.27107075,  1.10220517],\n",
       "       [-0.01994505,  1.10220517],\n",
       "       [-0.59358852, -0.22609337],\n",
       "       [-0.72968575, -0.22609337],\n",
       "       [-0.78946678, -0.22609337],\n",
       "       [-0.64446599, -0.22609337]])"
      ]
     },
     "execution_count": 267,
     "metadata": {},
     "output_type": "execute_result"
    }
   ],
   "source": [
    "from sklearn.preprocessing import scale\n",
    "X = data[[\"Size\",\"Bedrooms\"]].values\n",
    "y = data[\"Price\"].values\n",
    "X = scale(X)\n",
    "X[0:10,]"
   ]
  },
  {
   "cell_type": "code",
   "execution_count": 273,
   "metadata": {},
   "outputs": [
    {
     "data": {
      "text/plain": [
       "4086560101.2056565"
      ]
     },
     "execution_count": 273,
     "metadata": {},
     "output_type": "execute_result"
    }
   ],
   "source": [
    "reg = LinearRegression().fit(X, y)\n",
    "# ez a modell predikciója:\n",
    "ypred = reg.predict(X)\n",
    "# lássuk, mekkora a hiba a valósághoz képest:\n",
    "mse = mean_squared_error(y, ypred)\n",
    "mse"
   ]
  },
  {
   "cell_type": "markdown",
   "metadata": {},
   "source": [
    "Nézzük meg a $\\theta$ paramétereket:"
   ]
  },
  {
   "cell_type": "code",
   "execution_count": 275,
   "metadata": {},
   "outputs": [
    {
     "name": "stdout",
     "output_type": "stream",
     "text": [
      "340412.6595744681\n",
      "[109447.79646964  -6578.35485416]\n"
     ]
    }
   ],
   "source": [
    "print(reg.intercept_)\n",
    "print(reg.coef_)"
   ]
  },
  {
   "cell_type": "markdown",
   "metadata": {},
   "source": [
    "Az MSE hatalmasnak tűnik, de ne felejtsük, hogy ez négyzetes hiba, és a célváltozó nagyságrendje is elég nagy. Számítsuk ki az abszolút relatív hibát, és ábrázoljuk (rendezve) egy grafikonon:"
   ]
  },
  {
   "cell_type": "code",
   "execution_count": 282,
   "metadata": {},
   "outputs": [
    {
     "name": "stdout",
     "output_type": "stream",
     "text": [
      "[0.10906949 0.13270406 0.07720724 0.16053528 0.12524939 0.10363128\n",
      " 0.12056835 0.31677789 0.20516312 0.11902928 0.35298289 0.0149706\n",
      " 0.01062723 0.04373023 0.07694118 0.16685845 0.14678239 0.17783014\n",
      " 0.16430369 0.20435161 0.22328633 0.31353578 0.18022961 0.26116651\n",
      " 0.05403968 0.13359106 0.42658124 0.1150746  0.22179508 0.43541981\n",
      " 0.06221692 0.29529467 0.07537507 0.13763108 0.07294986 0.05414002\n",
      " 0.02594988 0.01867533 0.1683403  0.23909167 0.17566233 0.13651816\n",
      " 0.31210074 0.22930883 0.06019658 0.04189397 0.03609899]\n"
     ]
    },
    {
     "data": {
      "text/plain": [
       "Text(0,0.5,'Relaív hiba')"
      ]
     },
     "execution_count": 282,
     "metadata": {},
     "output_type": "execute_result"
    },
    {
     "data": {
      "image/png": "[encoded data removed]",
      "text/plain": [
       "<Figure size 432x288 with 1 Axes>"
      ]
     },
     "metadata": {
      "needs_background": "light"
     },
     "output_type": "display_data"
    }
   ],
   "source": [
    "rmae = np.abs(ypred-y)/y\n",
    "print(rmae)\n",
    "plt.plot(np.sort(rmae))\n",
    "plt.ylabel(\"Relaív hiba\")"
   ]
  },
  {
   "cell_type": "markdown",
   "metadata": {},
   "source": [
    "Mesterséges feature-öket természetesen most is hozzáadhatunk, mindkét oszlop hatványait, vagy akár a két oszlop szorzatát is, de a túltanulás veszélye fennáll."
   ]
  },
  {
   "cell_type": "code",
   "execution_count": 295,
   "metadata": {},
   "outputs": [
    {
     "data": {
      "text/plain": [
       "3539341657.927014"
      ]
     },
     "execution_count": 295,
     "metadata": {},
     "output_type": "execute_result"
    }
   ],
   "source": [
    "Xv = np.hstack((X, np.power(X[:,0:1],2), np.power(X[:,1:2],2),\n",
    "               np.power(X[:,0:1],3), np.power(X[:,1:2],3),\n",
    "                X[:,0:1]*X[:,1:2]))            \n",
    "reg = LinearRegression().fit(Xv, y)\n",
    "# ez a modell predikciója:\n",
    "ypred = reg.predict(Xv)\n",
    "# lássuk, mekkora a hiba a valósághoz képest:\n",
    "mse = mean_squared_error(y, ypred)\n",
    "mse"
   ]
  }
 ],
 "metadata": {
  "kernelspec": {
   "display_name": "Python 3",
   "language": "python",
   "name": "python3"
  },
  "language_info": {
   "codemirror_mode": {
    "name": "ipython",
    "version": 3
   },
   "file_extension": ".py",
   "mimetype": "text/x-python",
   "name": "python",
   "nbconvert_exporter": "python",
   "pygments_lexer": "ipython3",
   "version": "3.7.0"
  }
 },
 "nbformat": 4,
 "nbformat_minor": 2
}
