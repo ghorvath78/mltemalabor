{
 "cells": [
  {
   "cell_type": "markdown",
   "metadata": {},
   "source": [
    "# 1. Lineáris regresszió"
   ]
  },
  {
   "cell_type": "markdown",
   "metadata": {},
   "source": [
    "## 1.1 Lineáris regresszió 1 változóval\n",
    "\n",
    "Ebben a példában egy ételszállító cég adatain dolgozunk. \n",
    "Célunk, hogy előrejelezzük, mekkora lesz a cég profitja, ha egy adott méretű városban\n",
    "elindítja a szolgáltatását."
   ]
  },
  {
   "cell_type": "code",
   "execution_count": 15,
   "metadata": {},
   "outputs": [],
   "source": [
    "import pandas as pd\n",
    "import matplotlib.pyplot as plt"
   ]
  },
  {
   "cell_type": "code",
   "execution_count": 12,
   "metadata": {},
   "outputs": [],
   "source": [
    "# adatok betöltése és ábrázolása\n",
    "data = pd.read_csv(\"./data/simpleml/ex1data1.txt\", names = [\"Population\", \"Profit\"])"
   ]
  },
  {
   "cell_type": "code",
   "execution_count": 20,
   "metadata": {},
   "outputs": [
    {
     "data": {
      "text/plain": [
       "Text(0,0.5,'Profit')"
      ]
     },
     "execution_count": 20,
     "metadata": {},
     "output_type": "execute_result"
    },
    {
     "data": {
      "image/png": "[encoded data removed]",
      "text/plain": [
       "<Figure size 432x288 with 1 Axes>"
      ]
     },
     "metadata": {
      "needs_background": "light"
     },
     "output_type": "display_data"
    }
   ],
   "source": [
    "plt.scatter(x=data[\"Population\"], y=data[\"Profit\"])\n",
    "plt.xlabel(\"Population\")\n",
    "plt.ylabel(\"Profit\")"
   ]
  },
  {
   "cell_type": "markdown",
   "metadata": {},
   "source": [
    "Ebben a példában a megfigyeléseink két részből állnak:\n",
    "\n",
    "* Magyarázóváltozó (feature): $x$ (most a Population). Ez alapján szeretnénk előrejelezni.\n",
    "* Célváltozó: $y$ (most a Profit). Ezt szeretnénk előrejelezni.\n",
    "\n",
    "A megfigyeléseink száma $n$, az $i$. megfigyelés feature-eit $x^{(i)}$, a célváltozóját $y^{(i)}$ jelöli. Általános esetben minden egyes megfigyelés több, $n$ feature-t is tartalmazhat, így szerencsésebb a feature-öket indexelni: az $x^{(i)}_j$ az $i$. megfigyelés $j$. feature-e. A továbbiakban a feature-ökből álló vektort értjük az index nélküli jelölés alatt: $x^{(i)}=[x^{(i)}_1,x^{(i)}_2,\\dots,x^{(i)}_n]^T$. Ebben a példában $n=1$, így $x^{(i)}$ egy 1 elemű vektor lesz.\n",
    "\n",
    "A lineáris regresszió lényege, hogy a célváltozót a magyarázó váltózók lineáris függvényével közelíti. Ha a becsült célváltozót $\\hat{y}^{(i)}$-vel jelöljük, akkor ezt az alábbi alakban kapjuk meg:\n",
    "\n",
    "$$ \\hat{y}^{(i)} = \\theta_0 + \\theta_1 x^{(i)}_1.$$\n",
    "\n",
    "Ez egy (lineáris) modell. Két paramétere van, $\\theta_0$ és $\\theta_1$, melyeket az egyszerűség kedvéért vektorba szoktak gyűjteni: $\\theta=[\\theta_0,\\theta_1]^T$, így a célváltozó becslése vektorok segítségével még tömörebben kifejezhető:\n",
    "$$ \\hat{y}^{(i)} = \\theta^T\\cdot x^{(i)}$$\n",
    "A gépi tanulás célja az $m$ megfigyelés alapján az optimális modell paraméterek, azaz $\\theta_0$ és $\\theta_1$ meghatározása. \n",
    "\n",
    "Hogy mit is jelent az, hogy *optimális*? Ezt egy ún. **loss function** (költségfüggvény) határozza meg, amit $J(\\theta)$ jelöl, és pont azt írja le, hogy mennyire rossz a becslés ($\\theta$ paraméterek mellett mekkora a veszteség). Lineáris regressziónál az átlagos négyzetes hibát (mean squared error, MSE) szokták alkalmazni, aminek az alakja:\n",
    "\n",
    "$$J(\\theta)=\\frac{1}{m}\\sum_{i=1}^m (\\hat{y}^{(i)} - y^{(i)})^2 = \\frac{1}{m}\\sum_{i=1}^m (\\theta_0 + \\theta_1 x^{(i)}_1 - y^{(i)})^2$$\n",
    "\n",
    "Miért szerencsés a négyzetre emelés? Mert így mindkét irányű hibát (alá- és fölélövést) is büntetni tudjuk. Használhatnánk négyzetreemelés helyett abszolút értéket is, de a négyzet matematikailag könnyebben kezelhető, mert minden pontban létezik a deriváltja.\n",
    "\n",
    "### 1.1.1 Az optimális paraméterek meghatározása a loss function analitikus megoldásával\n",
    "\n",
    "Jelen esetben a költségfüggvény annyira egyszerű, hogy matematikailag pontosan is meg határozni a minimumát. Ehhez a $J(\\theta)$ függvényt deriválni kell $\\theta$ szerint (vigyázat, vektorváltozó!), és ahol a derivált $0$, ott kapjuk az optimumot (na jó, kellene vizsgálni a második deriváltat is, de attól most eltekintünk).\n",
    "\n",
    "Láttuk, hogy az $x^{(i)}$ feature-ök alapján a becslés $ \\hat{y}^{(i)} = \\theta^T\\cdot x^{(i)}$. Ha az összes megfigyelésre felírjuk ezt az egyenletet, és egymás alá rendezzük őket, akkor megkapjuk, hogy \n",
    "$$ \\hat{y} = X \\theta, $$\n",
    "ahol $\\hat{y}$ az összes célváltozót tartalmazó $m\\times 1$-es vektor, és $X$ az összes magyarázó változót tartalmazó $m\\times n$-es mátrix. A loss függvény ezzel a jelöléssel:\n",
    "$$ J(\\theta) = \\frac{1}{m}(y - X \\theta)^T(y - X \\theta),$$\n",
    "melynek a $\\theta$ szerinti deriváltja (nem triviális!):\n",
    "$$ \\frac{d}{d\\theta} J(\\theta) = \\frac{2}{m}(X^T X \\theta - X^T y).$$\n",
    "\n",
    "Ennek a $0$ helyét egyszerű mátrix műveletekkel megkaphatjuk:\n",
    "$$ \\theta_{opt}=(X^T X)^{-1}X^T y.$$\n",
    "\n",
    "Oldjuk meg ezt a példánkra!"
   ]
  },
  {
   "cell_type": "markdown",
   "metadata": {},
   "source": []
  },
  {
   "cell_type": "code",
   "execution_count": null,
   "metadata": {},
   "outputs": [],
   "source": []
  }
 ],
 "metadata": {
  "kernelspec": {
   "display_name": "Python 3",
   "language": "python",
   "name": "python3"
  },
  "language_info": {
   "codemirror_mode": {
    "name": "ipython",
    "version": 3
   },
   "file_extension": ".py",
   "mimetype": "text/x-python",
   "name": "python",
   "nbconvert_exporter": "python",
   "pygments_lexer": "ipython3",
   "version": "3.7.0"
  }
 },
 "nbformat": 4,
 "nbformat_minor": 2
}
